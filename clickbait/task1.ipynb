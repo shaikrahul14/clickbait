{
  "cells": [
    {
      "cell_type": "code",
      "execution_count": null,
      "metadata": {
        "id": "p8Z4Lj0ehKSO"
      },
      "outputs": [],
      "source": [
        "!pip install simpletransformers\n",
        "!pip install jsonlines"
      ]
    },
    {
      "cell_type": "code",
      "execution_count": null,
      "metadata": {
        "id": "lZW0akbYhf3-"
      },
      "outputs": [],
      "source": [
        "import jsonlines\n",
        "import pandas as pd\n",
        "\n",
        "d =[]\n",
        "\n",
        "with jsonlines.open('train.jsonl') as f:\n",
        "\n",
        "\n",
        "    for line in f.iter():\n",
        "        d.append(line)\n",
        "\n",
        "columns  = d[0].keys()\n",
        "\n",
        "train = pd.DataFrame(columns=columns)\n",
        "for i in d:\n",
        "    train.loc[len(train.index)] = list(i.values())"
      ]
    },
    {
      "cell_type": "code",
      "execution_count": null,
      "metadata": {
        "id": "11Eo8qKuAp5J"
      },
      "outputs": [],
      "source": [
        "d =[]\n",
        "\n",
        "with jsonlines.open('validation.jsonl') as f:\n",
        "\n",
        "    for line in f.iter():\n",
        "        d.append(line)\n",
        "columns  = d[0].keys()\n",
        "\n",
        "valid = pd.DataFrame(columns=columns)\n",
        "for i in d:\n",
        "    valid.loc[len(valid.index)] = list(i.values())"
      ]
    },
    {
      "cell_type": "code",
      "execution_count": null,
      "metadata": {
        "id": "7kwK1ihNA17W"
      },
      "outputs": [],
      "source": [
        "valid.head(1)"
      ]
    },
    {
      "cell_type": "code",
      "execution_count": null,
      "metadata": {
        "id": "nf59f9dsJiF2"
      },
      "outputs": [],
      "source": [
        "train.head(1)"
      ]
    },
    {
      "cell_type": "code",
      "execution_count": null,
      "metadata": {
        "id": "DXJgH11FJje_"
      },
      "outputs": [],
      "source": []
    },
    {
      "cell_type": "code",
      "execution_count": null,
      "metadata": {
        "id": "Sn2Z3Ji1A9SH"
      },
      "outputs": [],
      "source": []
    },
    {
      "cell_type": "code",
      "execution_count": null,
      "metadata": {
        "id": "AMjXXMoXX47S"
      },
      "outputs": [],
      "source": [
        "from simpletransformers.classification import ClassificationModel, ClassificationArgs\n",
        "import pandas as pd\n",
        "import logging\n",
        "\n",
        "\n",
        "logging.basicConfig(level=logging.INFO)\n",
        "transformers_logger = logging.getLogger(\"transformers\")\n",
        "transformers_logger.setLevel(logging.WARNING)\n"
      ]
    },
    {
      "cell_type": "code",
      "execution_count": null,
      "metadata": {
        "id": "2LPqBdUr_wKq"
      },
      "outputs": [],
      "source": [
        "model_args = ClassificationArgs(num_train_epochs=6)\n",
        "\n",
        "# Create a ClassificationModel\n",
        "model = ClassificationModel(\n",
        "    'deberta',\n",
        "    'debert-base-cased',\n",
        "    num_labels=3,\n",
        "    args=model_args,\n",
        "\n",
        "\n",
        ")"
      ]
    },
    {
      "cell_type": "code",
      "execution_count": null,
      "metadata": {
        "id": "2KJbpBA6YTjG"
      },
      "outputs": [],
      "source": [
        "\n"
      ]
    },
    {
      "cell_type": "code",
      "execution_count": null,
      "metadata": {
        "id": "F3d5gMog05zV"
      },
      "outputs": [],
      "source": [
        "train.rename(columns= {'tags':'spoilerType'},inplace=True)"
      ]
    },
    {
      "cell_type": "code",
      "execution_count": null,
      "metadata": {
        "id": "KYlh9OGM1Ty2"
      },
      "outputs": [],
      "source": [
        "train.head(1)"
      ]
    },
    {
      "cell_type": "code",
      "execution_count": null,
      "metadata": {
        "id": "B92VeDN5W7pY"
      },
      "outputs": [],
      "source": [
        "ret=[]\n",
        "c =0\n",
        "for _, i in list(train.iterrows()):\n",
        "        try:\n",
        "            # print(''.join(i['postText']) + '-' + i['targetTitle'] + ' ' + ''.join(i['targetParagraphs']))\n",
        "            ret += [{'uuid': i['uuid'] , 'text': ''.join(i['postText']) + '-' + i['targetTitle'] + ' ' + ''.join(i['targetParagraphs']) , 'labels':''.join(i['spoilerType']) }]\n",
        "            \"\"\n",
        "        except:\n",
        "            ret +=  [{'text':'','uuid':i['uuid']}]\n",
        "train = pd.DataFrame(ret)"
      ]
    },
    {
      "cell_type": "code",
      "execution_count": null,
      "metadata": {
        "id": "LB0VGpCLbjLF"
      },
      "outputs": [],
      "source": [
        "train.head()"
      ]
    },
    {
      "cell_type": "code",
      "execution_count": null,
      "metadata": {
        "id": "oaIOkFYCDNhZ"
      },
      "outputs": [],
      "source": []
    },
    {
      "cell_type": "code",
      "execution_count": null,
      "metadata": {
        "id": "o9NqQcmIXupJ"
      },
      "outputs": [],
      "source": [
        "train= train.drop('uuid',axis=1)"
      ]
    },
    {
      "cell_type": "code",
      "execution_count": null,
      "metadata": {
        "id": "HMVB7tAtXyQO"
      },
      "outputs": [],
      "source": [
        "train.head()"
      ]
    },
    {
      "cell_type": "code",
      "execution_count": null,
      "metadata": {
        "id": "A0Ois4V7X5Mg"
      },
      "outputs": [],
      "source": [
        "# uuid = tt['uuid']"
      ]
    },
    {
      "cell_type": "code",
      "execution_count": null,
      "metadata": {
        "id": "RgF78u2jW8FF"
      },
      "outputs": [],
      "source": [
        "# def trans(data):\n",
        "#     uuid = data['uuid']\n",
        "#     train = data[['text','labels']]\n",
        "#     model.train_model(train)\n",
        "\n"
      ]
    },
    {
      "cell_type": "code",
      "execution_count": null,
      "metadata": {
        "id": "TCglUfJ1WKFC"
      },
      "outputs": [],
      "source": [
        "def rep(a):\n",
        "  if a =='passage':\n",
        "\n",
        "    return 0\n",
        "  elif a == 'phrase':\n",
        "    return 1\n",
        "  else:\n",
        "    return 2"
      ]
    },
    {
      "cell_type": "code",
      "execution_count": null,
      "metadata": {
        "id": "g4mkJ_-xaC3U"
      },
      "outputs": [],
      "source": [
        "train['labels'] = train['labels'].apply(rep)"
      ]
    },
    {
      "cell_type": "code",
      "execution_count": null,
      "metadata": {
        "id": "g8Mia9uPbLgf"
      },
      "outputs": [],
      "source": [
        "train.head()"
      ]
    },
    {
      "cell_type": "code",
      "execution_count": null,
      "metadata": {
        "id": "5xqubMpAau-z"
      },
      "outputs": [],
      "source": []
    },
    {
      "cell_type": "code",
      "execution_count": null,
      "metadata": {
        "id": "Crf83XAJcMEy"
      },
      "outputs": [],
      "source": []
    },
    {
      "cell_type": "code",
      "execution_count": null,
      "metadata": {
        "id": "2cTrSX9e3Xwy"
      },
      "outputs": [],
      "source": [
        "model.train_model(train)\n"
      ]
    },
    {
      "cell_type": "code",
      "execution_count": null,
      "metadata": {
        "id": "BtPVZ0nMVhI0"
      },
      "outputs": [],
      "source": [
        " model.predict([''' Wes Welker Wanted Dinner With Tom Brady, But Patriots QB Had Better Idea-Wes Welker Wanted Dinner With Tom Brady, But Patriots QB Had A Better Idea It’ll be just like old times this weekend for Tom Brady and Wes Welker.', 'Welker revealed Friday morning on a Miami radio station that he contacted Brady because he’ll be in town for Sunday’s game between the New England Patriots and Miami Dolphins at Gillette Stadium. It seemed like a perfect opportunity for the two to catch up.', 'But Brady’s definition of \"catching up\" involves far more than just a meal. In fact, it involves some literal \"catching\" as the Patriots quarterback looks to stay sharp during his four-game Deflategate suspension.', '\"I hit him up to do dinner Saturday night. He’s like, ‘I’m going to be flying in from Ann Arbor later (after the Michigan-Colorado football game), but how about that morning we go throw?’ \" Welker said on WQAM, per The Boston Globe. \"And I’m just sitting there, I’m like, ‘I was just thinking about dinner, but yeah, sure. I’ll get over there early and we can throw a little bit.’ \"', 'Welker was one of Brady’s favorite targets for six seasons from 2007 to 2012. It’s understandable him and Brady want to meet with both being in the same area. But Brady typically is all business during football season. Welker probably should have known what he was getting into when reaching out to his buddy.', '\"That’s the only thing we really have planned,\" Welker said of his upcoming workout with Brady. \"It’s just funny. I’m sitting there trying to have dinner. ‘Hey, get your ass up here and let’s go throw.’ I’m like, ‘Aw jeez, man.’ He’s going to have me running like 2-minute drills in his backyard or something.\"', 'Maybe Brady will put a good word in for Welker down in Foxboro if the former Patriots wide receiver impresses him enough. '''])"
      ]
    },
    {
      "cell_type": "code",
      "execution_count": null,
      "metadata": {
        "id": "jpOVPEvidTCq"
      },
      "outputs": [],
      "source": [
        "\n",
        "\n",
        "result, model_outputs, wrong_predictions = model.eval_model(train)\n"
      ]
    },
    {
      "cell_type": "code",
      "execution_count": null,
      "metadata": {
        "id": "5Fvzsxlfc1To"
      },
      "outputs": [],
      "source": [
        "result"
      ]
    },
    {
      "cell_type": "code",
      "execution_count": null,
      "metadata": {
        "id": "GxwuTdSdeX3a"
      },
      "outputs": [],
      "source": [
        "model_outputs"
      ]
    },
    {
      "cell_type": "code",
      "execution_count": null,
      "metadata": {
        "id": "LZMOyvDKkxcY"
      },
      "outputs": [],
      "source": [
        "import numpy as np\n",
        "predictions = np.argmax(model_outputs,axis=1)"
      ]
    },
    {
      "cell_type": "code",
      "execution_count": null,
      "metadata": {
        "id": "zX74zdGvpLJi"
      },
      "outputs": [],
      "source": [
        "predictions"
      ]
    },
    {
      "cell_type": "code",
      "execution_count": null,
      "metadata": {
        "id": "PsEETt73pIKv"
      },
      "outputs": [],
      "source": [
        "from sklearn.metrics import accuracy_score\n",
        "print(\"Accuracy:\", accuracy_score(list(train['labels']), predictions)) # Value between 0 and 1\n",
        "\n",
        "print(\"Accuracy Percentage {} %:\".format(100*accuracy_score(list(train['labels']), predictions)))"
      ]
    },
    {
      "cell_type": "code",
      "execution_count": null,
      "metadata": {
        "id": "oRJINr4npih8"
      },
      "outputs": [],
      "source": [
        "def rever(a):\n",
        "  if a==0:\n",
        "    return 'passage'\n",
        "  elif a==1:\n",
        "    return 'phrase'\n",
        "  else:\n",
        "    return 'multi'\n",
        "def main(train):\n",
        "  train.rename(columns= {'tags':'spoilerType'},inplace=True)\n",
        "  ret=[]\n",
        "  c =0\n",
        "  for _, i in list(train.iterrows()):\n",
        "          try:\n",
        "              # print(''.join(i['postText']) + '-' + i['targetTitle'] + ' ' + ''.join(i['targetParagraphs']))\n",
        "              ret += [{'uuid': i['uuid'] , 'text': ''.join(i['postText']) + '-' + i['targetTitle'] + ' ' + ''.join(i['targetParagraphs']) , 'labels':''.join(i['spoilerType']) }]\n",
        "              \"\"\n",
        "          except:\n",
        "              ret +=  [{'text':'','uuid':i['uuid']}]\n",
        "  tt = pd.DataFrame(ret)\n",
        "  uuid = tt['uuid']\n",
        "  tt= tt.drop('uuid',axis=1)\n",
        "  predictions, raw_outputs = model.predict(list(tt['text']))\n",
        "  z = tt['labels'].apply(rep)\n",
        "\n",
        "  accuracy = accuracy_score(list(z), predictions)\n",
        "  uuid = pd.Series(uuid)\n",
        "  z = pd.Series(predictions, name='Prediciton')\n",
        "  output = pd.concat([uuid,z],axis=1)\n",
        "  output['Prediciton'] = output['Prediciton'].apply(rever)\n",
        "\n",
        "\n",
        "\n",
        "  return accuracy , output\n",
        "\n",
        "\n",
        "\n",
        "\n"
      ]
    },
    {
      "cell_type": "code",
      "execution_count": null,
      "metadata": {
        "id": "zCQ9eUOrEsUf"
      },
      "outputs": [],
      "source": [
        "accuracy , output = main(valid)"
      ]
    },
    {
      "cell_type": "code",
      "execution_count": null,
      "metadata": {
        "id": "rqLjPKCcRx0N"
      },
      "outputs": [],
      "source": [
        "accuracy"
      ]
    },
    {
      "cell_type": "code",
      "execution_count": null,
      "metadata": {
        "id": "94GJp-DOSb0H"
      },
      "outputs": [],
      "source": [
        "output"
      ]
    },
    {
      "cell_type": "code",
      "execution_count": null,
      "metadata": {
        "id": "kqpzry4OSdj5"
      },
      "outputs": [],
      "source": []
    },
    {
      "cell_type": "code",
      "execution_count": null,
      "metadata": {
        "id": "E8rpoWDhR4dK"
      },
      "outputs": [],
      "source": []
    },
    {
      "cell_type": "code",
      "execution_count": null,
      "metadata": {
        "id": "kJx7A-nRR2R-"
      },
      "outputs": [],
      "source": []
    },
    {
      "cell_type": "code",
      "execution_count": null,
      "metadata": {
        "id": "dWj9ENZtEq5S"
      },
      "outputs": [],
      "source": []
    },
    {
      "cell_type": "code",
      "execution_count": null,
      "metadata": {
        "id": "JRhYwGVQEhl7"
      },
      "outputs": [],
      "source": []
    },
    {
      "cell_type": "code",
      "execution_count": null,
      "metadata": {
        "id": "1e8xZ0TKEfEv"
      },
      "outputs": [],
      "source": []
    },
    {
      "cell_type": "code",
      "execution_count": null,
      "metadata": {
        "id": "dOBAB1-REcfw"
      },
      "outputs": [],
      "source": []
    },
    {
      "cell_type": "code",
      "execution_count": null,
      "metadata": {
        "id": "GfO7c440ENCE"
      },
      "outputs": [],
      "source": []
    },
    {
      "cell_type": "code",
      "execution_count": null,
      "metadata": {
        "id": "NNRcxh-uEIS9"
      },
      "outputs": [],
      "source": []
    },
    {
      "cell_type": "code",
      "execution_count": null,
      "metadata": {
        "id": "siHv9DU7pflH"
      },
      "outputs": [],
      "source": []
    },
    {
      "cell_type": "code",
      "execution_count": null,
      "metadata": {
        "id": "MvcBRkfAk0Za"
      },
      "outputs": [],
      "source": []
    },
    {
      "cell_type": "code",
      "execution_count": null,
      "metadata": {
        "id": "1X6Cs8eKkes7"
      },
      "outputs": [],
      "source": []
    },
    {
      "cell_type": "code",
      "execution_count": null,
      "metadata": {
        "id": "15Tq218tdqpn"
      },
      "outputs": [],
      "source": []
    },
    {
      "cell_type": "code",
      "execution_count": null,
      "metadata": {
        "id": "ga8AlggM0f-5"
      },
      "outputs": [],
      "source": []
    }
  ],
  "metadata": {
    "accelerator": "GPU",
    "colab": {
      "private_outputs": true,
      "provenance": []
    },
    "gpuClass": "standard",
    "kernelspec": {
      "display_name": "Python 3 (ipykernel)",
      "language": "python",
      "name": "python3"
    },
    "language_info": {
      "codemirror_mode": {
        "name": "ipython",
        "version": 3
      },
      "file_extension": ".py",
      "mimetype": "text/x-python",
      "name": "python",
      "nbconvert_exporter": "python",
      "pygments_lexer": "ipython3",
      "version": "3.8.8"
    }
  },
  "nbformat": 4,
  "nbformat_minor": 0
}